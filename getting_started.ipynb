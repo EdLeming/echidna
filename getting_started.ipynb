{
 "cells": [
  {
   "cell_type": "markdown",
   "metadata": {},
   "source": [
    "# Tutorial 1: Getting started with echidna"
   ]
  },
  {
   "cell_type": "markdown",
   "metadata": {},
   "source": [
    "This guide tutorial aims to get you started with some basic tasks you can accomplish using echidna."
   ]
  },
  {
   "cell_type": "markdown",
   "metadata": {},
   "source": [
    "## Spectra creation"
   ]
  },
  {
   "cell_type": "markdown",
   "metadata": {},
   "source": [
    "The `Spectra` class is echidna's most fundamental class. It holds the core data structure and provides much of the core functionality required. Coincidentally, this guide will be centred around this class, how to create it and then some manipulations of the class."
   ]
  },
  {
   "cell_type": "markdown",
   "metadata": {},
   "source": [
    "We'll begin with how to create an instance of the `Spectra` class. It is part of the `echidna.core.spectra` module, so we will import this and make a `Spectra` instance."
   ]
  },
  {
   "cell_type": "code",
   "execution_count": 1,
   "metadata": {
    "collapsed": false
   },
   "outputs": [],
   "source": [
    "import echidna.core.spectra as spectra"
   ]
  },
  {
   "cell_type": "markdown",
   "metadata": {
    "collapsed": true
   },
   "source": [
    "Now we need a config file to create the spectrum from. There is an example config file in `echidna/config`. If you look at the contents of this yaml file, you'll see it tells the `Spectra` class to create a data structure to hold two parameters:\n",
    "\n",
    " * `energy_mc`, with lower limit 0, upper limit 10 and 1000 bins\n",
    " * `radial_mc`, with lower limit 0, upper limit 15000 and 1500 bins\n",
    "\n",
    "This config should be fine for us. We can load it using the `load_from_file` method of the `SpectraConfig` class:"
   ]
  },
  {
   "cell_type": "code",
   "execution_count": 2,
   "metadata": {
    "collapsed": false
   },
   "outputs": [
    {
     "name": "stdout",
     "output_type": "stream",
     "text": [
      "['energy_mc', 'radial_mc']\n"
     ]
    }
   ],
   "source": [
    "config = spectra.SpectraConfig.load_from_file(\"echidna/config/example.yml\")\n",
    "print config.get_pars()"
   ]
  },
  {
   "cell_type": "markdown",
   "metadata": {},
   "source": [
    "Finally before creating the spectrum, we should define the number of events it should represent:"
   ]
  },
  {
   "cell_type": "code",
   "execution_count": 3,
   "metadata": {
    "collapsed": true
   },
   "outputs": [],
   "source": [
    "num_decays = 1000"
   ]
  },
  {
   "cell_type": "code",
   "execution_count": 4,
   "metadata": {
    "collapsed": false
   },
   "outputs": [
    {
     "name": "stdout",
     "output_type": "stream",
     "text": [
      "<echidna.core.spectra.Spectra object at 0x7f8c1c511ed0>\n"
     ]
    }
   ],
   "source": [
    "spectrum_1 = spectra.Spectra(\"spectrum-1\", num_decays, config)\n",
    "print spectrum_1"
   ]
  },
  {
   "cell_type": "markdown",
   "metadata": {},
   "source": [
    "And there you have it, you've created a `Spectra` object."
   ]
  },
  {
   "cell_type": "markdown",
   "metadata": {},
   "source": [
    "## Filling the spectrum"
   ]
  },
  {
   "cell_type": "markdown",
   "metadata": {},
   "source": [
    "Ok, so we now have a spectrum, let's fill it with some events. We'll generate random energies from a Gaussian distribution and random positions from a Uniform distribution. Much of echidna is built using the `numpy` and `SciPy` packages and we will use them here to generate the random numbers. We'll also generate a third random number to simulate some form rudimentary detector efficiency."
   ]
  },
  {
   "cell_type": "code",
   "execution_count": 5,
   "metadata": {
    "collapsed": true
   },
   "outputs": [],
   "source": [
    "# Import numpy\n",
    "import numpy"
   ]
  },
  {
   "cell_type": "code",
   "execution_count": 6,
   "metadata": {
    "collapsed": false
   },
   "outputs": [],
   "source": [
    "# Generate random energies from a Gaussin with mean (mu) and sigma (sigma)\n",
    "mu = 2.5  # MeV\n",
    "sigma = 0.15 # MeV\n",
    "\n",
    "# Generate random radial position from a Uniform distribution\n",
    "outer_radius = 5997  # Radius of SNO+ AV\n",
    "\n",
    "# Detector efficiency\n",
    "efficiency = 0.9  # 90%\n",
    "\n",
    "for event in range(num_decays):\n",
    "    energy = numpy.random.normal(mu, sigma)\n",
    "    radius = numpy.random.uniform(high=outer_radius)\n",
    "    event_detected = (numpy.random.uniform() > (1. - efficiency))\n",
    "    if event_detected: # Fill spectrum with values\n",
    "        spectrum_1.fill(energy_mc=energy, radial_mc=radius)"
   ]
  },
  {
   "cell_type": "markdown",
   "metadata": {},
   "source": [
    "This will have filled our `Spectra` class with the events. Make sure you use the exact parameter names that were printed out above, as kewyord arguments. To check we can now use the `sum` method. This returns the total number of events stored in the spectrum at a given time - the integral of the spectrum."
   ]
  },
  {
   "cell_type": "code",
   "execution_count": 7,
   "metadata": {
    "collapsed": false
   },
   "outputs": [
    {
     "name": "stdout",
     "output_type": "stream",
     "text": [
      "899.0\n"
     ]
    }
   ],
   "source": [
    "print spectrum_1.sum()"
   ]
  },
  {
   "cell_type": "markdown",
   "metadata": {},
   "source": [
    "The value returned by `sum`, should roughly equal:"
   ]
  },
  {
   "cell_type": "code",
   "execution_count": 8,
   "metadata": {
    "collapsed": false
   },
   "outputs": [
    {
     "name": "stdout",
     "output_type": "stream",
     "text": [
      "900.0\n"
     ]
    }
   ],
   "source": [
    "print num_decays * efficiency"
   ]
  },
  {
   "cell_type": "markdown",
   "metadata": {},
   "source": [
    "We can also inspect the raw data structure. This is saved in the `_data` member of the `Spectra` class:"
   ]
  },
  {
   "cell_type": "code",
   "execution_count": 9,
   "metadata": {
    "collapsed": false
   },
   "outputs": [
    {
     "name": "stdout",
     "output_type": "stream",
     "text": [
      "[[ 0.  0.  0. ...,  0.  0.  0.]\n",
      " [ 0.  0.  0. ...,  0.  0.  0.]\n",
      " [ 0.  0.  0. ...,  0.  0.  0.]\n",
      " ..., \n",
      " [ 0.  0.  0. ...,  0.  0.  0.]\n",
      " [ 0.  0.  0. ...,  0.  0.  0.]\n",
      " [ 0.  0.  0. ...,  0.  0.  0.]]\n"
     ]
    }
   ],
   "source": [
    "print spectrum_1._data"
   ]
  },
  {
   "cell_type": "markdown",
   "metadata": {},
   "source": [
    "**Note: you probably won't see any entries in the above. For large arrays, numpy only prints the first three and last three entries. Since our energy range is in the middle, all our events are in the** `...` **part at the moment. But we will see entries printed out later when we apply some cuts.**"
   ]
  },
  {
   "cell_type": "markdown",
   "metadata": {},
   "source": [
    "## Plotting"
   ]
  },
  {
   "cell_type": "markdown",
   "metadata": {},
   "source": [
    "Another useful way to inspect the `Spectra` created is to plot it. Support is available within echidna to plot using either `ROOT` or `matplotlib` and there are some useful plotting functions available in the `plot` an `plot_root` modules."
   ]
  },
  {
   "cell_type": "code",
   "execution_count": 11,
   "metadata": {
    "collapsed": false
   },
   "outputs": [],
   "source": [
    "import echidna.output.plot as plot\n",
    "import echidna.output.plot_root as plot_root"
   ]
  },
  {
   "cell_type": "markdown",
   "metadata": {
    "collapsed": true
   },
   "source": [
    "To plot the projection of the spectrum on the `energy_mc` axis:"
   ]
  },
  {
   "cell_type": "code",
   "execution_count": 13,
   "metadata": {
    "collapsed": false
   },
   "outputs": [
    {
     "data": {
      "text/plain": [
       "<matplotlib.figure.Figure at 0x7f8c08958050>"
      ]
     },
     "execution_count": 13,
     "metadata": {},
     "output_type": "execute_result"
    }
   ],
   "source": [
    "plot.plot_projection(spectrum_1, \"energy_mc\", fig_num=1)"
   ]
  },
  {
   "cell_type": "markdown",
   "metadata": {},
   "source": [
    "and to plot the projection on the `radial_mc` axis, this time using root:"
   ]
  },
  {
   "cell_type": "code",
   "execution_count": 15,
   "metadata": {
    "collapsed": false
   },
   "outputs": [
    {
     "name": "stdout",
     "output_type": "stream",
     "text": [
      "Return to quit\n"
     ]
    },
    {
     "data": {
      "text/plain": [
       "<ROOT.TH1D object (\"radial_mc\") at 0x402b130>"
      ]
     },
     "execution_count": 15,
     "metadata": {},
     "output_type": "execute_result"
    }
   ],
   "source": [
    "plot_root.plot_projection(spectrum_1, \"radial_mc\")"
   ]
  },
  {
   "cell_type": "markdown",
   "metadata": {},
   "source": [
    "You can also project onto two dimensions and plot a surface:"
   ]
  },
  {
   "cell_type": "code",
   "execution_count": 17,
   "metadata": {
    "collapsed": false
   },
   "outputs": [
    {
     "ename": "TypeError",
     "evalue": "float argument required, not str",
     "output_type": "error",
     "traceback": [
      "\u001b[1;31m---------------------------------------------------------------------------\u001b[0m",
      "\u001b[1;31mTypeError\u001b[0m                                 Traceback (most recent call last)",
      "\u001b[1;32m<ipython-input-17-3378db744f5a>\u001b[0m in \u001b[0;36m<module>\u001b[1;34m()\u001b[0m\n\u001b[1;32m----> 1\u001b[1;33m \u001b[0mplot\u001b[0m\u001b[1;33m.\u001b[0m\u001b[0mplot_surface\u001b[0m\u001b[1;33m(\u001b[0m\u001b[0mspectrum_1\u001b[0m\u001b[1;33m,\u001b[0m \u001b[1;34m\"energy_mc\"\u001b[0m\u001b[1;33m,\u001b[0m \u001b[1;34m\"radial_mc\"\u001b[0m\u001b[1;33m)\u001b[0m\u001b[1;33m\u001b[0m\u001b[0m\n\u001b[0m",
      "\u001b[1;32m/home/ashley/snoplus/software/echidna/echidna/echidna/output/plot.py\u001b[0m in \u001b[0;36mplot_surface\u001b[1;34m(spectra, dimension1, dimension2)\u001b[0m\n\u001b[0;32m    206\u001b[0m     \u001b[0mpar2\u001b[0m \u001b[1;33m=\u001b[0m \u001b[0mspectra\u001b[0m\u001b[1;33m.\u001b[0m\u001b[0mget_config\u001b[0m\u001b[1;33m(\u001b[0m\u001b[1;33m)\u001b[0m\u001b[1;33m.\u001b[0m\u001b[0mget_par\u001b[0m\u001b[1;33m(\u001b[0m\u001b[0mdimension2\u001b[0m\u001b[1;33m)\u001b[0m\u001b[1;33m\u001b[0m\u001b[0m\n\u001b[0;32m    207\u001b[0m     \u001b[1;32mif\u001b[0m \u001b[0mindex1\u001b[0m \u001b[1;33m<\u001b[0m \u001b[0mindex2\u001b[0m\u001b[1;33m:\u001b[0m\u001b[1;33m\u001b[0m\u001b[0m\n\u001b[1;32m--> 208\u001b[1;33m         \u001b[0maxis\u001b[0m\u001b[1;33m.\u001b[0m\u001b[0mset_xlabel\u001b[0m\u001b[1;33m(\u001b[0m\u001b[1;34m\"%s (%f)\"\u001b[0m \u001b[1;33m%\u001b[0m \u001b[1;33m(\u001b[0m\u001b[0mdimension2\u001b[0m\u001b[1;33m,\u001b[0m \u001b[0mpar2\u001b[0m\u001b[1;33m.\u001b[0m\u001b[0mget_unit\u001b[0m\u001b[1;33m(\u001b[0m\u001b[1;33m)\u001b[0m\u001b[1;33m)\u001b[0m\u001b[1;33m)\u001b[0m\u001b[1;33m\u001b[0m\u001b[0m\n\u001b[0m\u001b[0;32m    209\u001b[0m         \u001b[0maxis\u001b[0m\u001b[1;33m.\u001b[0m\u001b[0mset_ylabel\u001b[0m\u001b[1;33m(\u001b[0m\u001b[1;34m\"%s (%f)\"\u001b[0m \u001b[1;33m%\u001b[0m \u001b[1;33m(\u001b[0m\u001b[0mdimension1\u001b[0m\u001b[1;33m,\u001b[0m \u001b[0mpar1\u001b[0m\u001b[1;33m.\u001b[0m\u001b[0mget_unit\u001b[0m\u001b[1;33m(\u001b[0m\u001b[1;33m)\u001b[0m\u001b[1;33m)\u001b[0m\u001b[1;33m)\u001b[0m\u001b[1;33m\u001b[0m\u001b[0m\n\u001b[0;32m    210\u001b[0m     \u001b[1;32melse\u001b[0m\u001b[1;33m:\u001b[0m\u001b[1;33m\u001b[0m\u001b[0m\n",
      "\u001b[1;31mTypeError\u001b[0m: float argument required, not str"
     ]
    }
   ],
   "source": [
    "plot.plot_surface(spectrum_1, \"energy_mc\", \"radial_mc\")"
   ]
  },
  {
   "cell_type": "markdown",
   "metadata": {},
   "source": [
    "## Convolution and cuts"
   ]
  },
  {
   "cell_type": "markdown",
   "metadata": {},
   "source": [
    "The ability to smear the event, along a parameter axis, is built into echidna in the `smear` module. There are three classes in the module that allow you to create a smearer for different scenarios. There are two smearers for energy-based parameters, `EnergySmearRes` and `EnergySmearLY`, which allow you to smear by energy resolution (e.g. $\\frac{5\\%}{\\sqrt{(E[MeV])}}$ and light yield (e.g. 200 NHit/Mev) respectively. Then additionally the `RadialSmear` class handles smearing along the axis of any radial based parameter."
   ]
  },
  {
   "cell_type": "markdown",
   "metadata": {},
   "source": [
    "We will go through an example of how to smear our spectrum by a fixed energy resolution of 5%. There are two main smearing algorithms: \"weighted smear\" and \"random smear\". The \"random smear\" algorithm takes each event in each bin and randomly assigns it a new energy from the Gaussian distribution for that bin - it is fast but not very accurate for low statistics. The \"weighted smear\" algorithm is slower but much more accurate, as re-weights each bin by taking into account all other nearby bins within a pre-defined range. We will use the \"weighted smear\" method in this example."
   ]
  },
  {
   "cell_type": "markdown",
   "metadata": {},
   "source": [
    "First to speed the smearing process, we will apply some loose cuts. Although, fewer bins means faster smearing, you should be wary of cutting the spectrum too tightly before smearing as you may end up cutting bins that would have influenced the smearing. Cuts can be applied using the `shrink` method. (Confusingly there is also a `cut` method which is almost identical to the `shrink` method, but updates the number of events the spectrum represents, after the cut is applied. Unless you are sure this is what you want to do, it is probably better to use the `shrink` method.) To shrink over multiple parameters, it is best to construct a dictionary of `_low` and `_high` values for each parameter and then pass this to the shrink method."
   ]
  },
  {
   "cell_type": "code",
   "execution_count": 18,
   "metadata": {
    "collapsed": true
   },
   "outputs": [],
   "source": [
    "shrink_dict = {\"energy_mc_low\": mu - 5.*sigma,\n",
    "               \"energy_mc_high\": mu + 5.*sigma,\n",
    "               \"radial_mc_low\": 0.0,\n",
    "               \"radial_mc_high\": 3500}\n",
    "spectrum_1.shrink(**shrink_dict)"
   ]
  },
  {
   "cell_type": "markdown",
   "metadata": {},
   "source": [
    "Using the `sum` method, you can check to see how many events were cut."
   ]
  },
  {
   "cell_type": "code",
   "execution_count": 19,
   "metadata": {
    "collapsed": false
   },
   "outputs": [
    {
     "name": "stdout",
     "output_type": "stream",
     "text": [
      "527.0\n"
     ]
    }
   ],
   "source": [
    "print spectrum_1.sum()"
   ]
  },
  {
   "cell_type": "markdown",
   "metadata": {},
   "source": [
    "Import the smear class:"
   ]
  },
  {
   "cell_type": "code",
   "execution_count": 20,
   "metadata": {
    "collapsed": true
   },
   "outputs": [],
   "source": [
    "import echidna.core.smear as smear"
   ]
  },
  {
   "cell_type": "markdown",
   "metadata": {},
   "source": [
    "and create the smearer object."
   ]
  },
  {
   "cell_type": "code",
   "execution_count": 21,
   "metadata": {
    "collapsed": true
   },
   "outputs": [],
   "source": [
    "smearer = smear.EnergySmearRes()"
   ]
  },
  {
   "cell_type": "markdown",
   "metadata": {},
   "source": [
    "By default the \"weighted smear\" method considers all bins within a $\\pm 5\\sigma$ range. For the sake of speed, we will reduce this to 3 here. Also set the energy resolution - 0.05 for 5%.  "
   ]
  },
  {
   "cell_type": "code",
   "execution_count": 22,
   "metadata": {
    "collapsed": true
   },
   "outputs": [],
   "source": [
    "smearer.set_num_sigma(3)\n",
    "smearer.set_resolution(0.05)"
   ]
  },
  {
   "cell_type": "markdown",
   "metadata": {},
   "source": [
    "To smear our original spectrum and create the new `Spectra` object `smeared_spectrum`:"
   ]
  },
  {
   "cell_type": "code",
   "execution_count": 23,
   "metadata": {
    "collapsed": true
   },
   "outputs": [],
   "source": [
    "smeared_spectrum = smearer.weighted_smear(spectrum_1)"
   ]
  },
  {
   "cell_type": "markdown",
   "metadata": {},
   "source": [
    "this should hopefully only create a couple of seconds."
   ]
  },
  {
   "cell_type": "markdown",
   "metadata": {},
   "source": [
    "The following code shows you how to make a simple script, using matplotlib, to overlay the original and smeared spectra."
   ]
  },
  {
   "cell_type": "code",
   "execution_count": 24,
   "metadata": {
    "collapsed": true
   },
   "outputs": [],
   "source": [
    "import numpy as np\n",
    "import matplotlib.pyplot as plt\n",
    "\n",
    "\n",
    "def overlay_spectra(original, smeared, dimension=\"energy_mc\", fignum=1):\n",
    "    \"\"\" Overlay original and smeared spectra.\n",
    "    \n",
    "    Args:\n",
    "      original (echidna.core.spectra.Spectra): Original spectrum.\n",
    "      smeared (echidna.core.spectra.Spectra): Smeared spectrum.\n",
    "      dimension (string, optional): Dimension to project onto.\n",
    "        Default is \"energy_mc\".\n",
    "      fignum (int, optional): Figure number, if producing multiple\n",
    "        figures. Default is 1.\n",
    "\n",
    "    Returns:\n",
    "      matplotlib.figure.Figure: Figure showing overlaid spectra.\n",
    "    \"\"\"\n",
    "    fig = plt.figure(num=fignum)\n",
    "    ax = fig.add_subplot(1, 1, 1)\n",
    "    \n",
    "    par = original.get_config().get_par(dimension)\n",
    "    width = par.get_width()\n",
    "\n",
    "    # Define array of bin boundaries (1 more than number of bins)\n",
    "    bins = np.linspace(par._low, par._high, par._bins+1)\n",
    "    # Define array of bin centres\n",
    "    x = bins[:-1] + 0.5*width\n",
    "\n",
    "    # Overlay two spectra using projection as weight\n",
    "    ax.hist(x, bins, weights=original.project(dimension), histtype=\"stepfilled\",\n",
    "            color=\"RoyalBlue\", alpha=0.5, label=original._name)\n",
    "    ax.hist(x, bins, weights=smeared.project(dimension), histtype=\"stepfilled\",\n",
    "            color=\"Red\", alpha=0.5, label=smeared._name)\n",
    "\n",
    "    # Add label/style\n",
    "    plt.legend(loc=\"upper right\")\n",
    "    plt.ylim(ymin=0.0)\n",
    "    plt.xlabel(dimension + \" [\" + par.get_unit() + \"]\")\n",
    "    plt.ylabel(\"Events per \" + str(width) + \" \" + par.get_unit() + \" bin\")\n",
    "    return fig"
   ]
  },
  {
   "cell_type": "code",
   "execution_count": 25,
   "metadata": {
    "collapsed": false
   },
   "outputs": [],
   "source": [
    "fig1 = overlay_spectra(spectrum_1, smeared_spectrum, fignum=4)\n",
    "plt.show()"
   ]
  },
  {
   "cell_type": "markdown",
   "metadata": {},
   "source": [
    "## Other spectra manipulations "
   ]
  },
  {
   "cell_type": "markdown",
   "metadata": {},
   "source": [
    "We now have a nice smeared version of our original spectrum. To prepare the spectrum for a final analysis there are a few final manipulations we may wish to do."
   ]
  },
  {
   "cell_type": "markdown",
   "metadata": {},
   "source": [
    "### Region of Interest (ROI)"
   ]
  },
  {
   "cell_type": "markdown",
   "metadata": {},
   "source": [
    "There is a special version of the `shrink` method called `shrink_to_roi` that can be used for ROI cuts. It saves some useful information about the ROI in the `Spectra` class instance, including the efficiency i.e. integral of spectrum after cut divided by integral of spectrum before cut."
   ]
  },
  {
   "cell_type": "code",
   "execution_count": 26,
   "metadata": {
    "collapsed": false
   },
   "outputs": [
    {
     "name": "stdout",
     "output_type": "stream",
     "text": [
      "{'high': 2.7175, 'efficiency': 0.5661108369966734, 'low': 2.425}\n"
     ]
    }
   ],
   "source": [
    "roi = (mu - 0.5*sigma, mu + 1.45*sigma)  # To get nice shape for rebinning\n",
    "smeared_spectrum.shrink_to_roi(roi[0], roi[1], \"energy_mc\")\n",
    "print smeared_spectrum.get_roi(\"energy_mc\")"
   ]
  },
  {
   "cell_type": "markdown",
   "metadata": {},
   "source": [
    "### Rebin"
   ]
  },
  {
   "cell_type": "markdown",
   "metadata": {},
   "source": [
    "Our spectrum is still quite finely binned, perhaps we want to bin it in 50 keV bins instead of 10 keV bins. The `rebin` method can be used to acheive this."
   ]
  },
  {
   "cell_type": "markdown",
   "metadata": {},
   "source": [
    "The `rebin` method requires you to specify the new shape (tuple) of the data. With just two dimensions this is trivial, but with more dimensions, it may be better to use a construct such as:"
   ]
  },
  {
   "cell_type": "code",
   "execution_count": 27,
   "metadata": {
    "collapsed": false
   },
   "outputs": [
    {
     "name": "stdout",
     "output_type": "stream",
     "text": [
      "(30, 350)\n",
      "(6, 350)\n"
     ]
    }
   ],
   "source": [
    "dimension = smeared_spectrum.get_config().get_pars().index(\"energy_mc\")\n",
    "old_shape = smeared_spectrum._data.shape\n",
    "reduction_factor = 5  # how many bins to combine into a single bin\n",
    "new_shape = tuple([j/reduction_factor if i==dimension else j for i, j in enumerate(old_shape)])\n",
    "print old_shape\n",
    "print new_shape"
   ]
  },
  {
   "cell_type": "code",
   "execution_count": 28,
   "metadata": {
    "collapsed": false
   },
   "outputs": [],
   "source": [
    "smeared_spectrum.rebin(new_shape)"
   ]
  },
  {
   "cell_type": "markdown",
   "metadata": {},
   "source": [
    "### Scaling "
   ]
  },
  {
   "cell_type": "markdown",
   "metadata": {},
   "source": [
    "Finally, we \"simulated\" 1000 events, but we most likely want to scale this down for to represent the number of events expected in our analysis. The `Spectra` class has a `scale` method to accomplish this. Remember that the `scale` method should always be supplied with the number of events the full spectrum (i.e. before any cuts using `shrink` or `shrink_to_roi`) should represent. Lets assume that our spectrum should actually represent 104.25 events:"
   ]
  },
  {
   "cell_type": "code",
   "execution_count": 29,
   "metadata": {
    "collapsed": false
   },
   "outputs": [
    {
     "name": "stdout",
     "output_type": "stream",
     "text": [
      "31.1019878569\n"
     ]
    }
   ],
   "source": [
    "smeared_spectrum.scale(104.25)\n",
    "print smeared_spectrum.sum()"
   ]
  },
  {
   "cell_type": "markdown",
   "metadata": {},
   "source": [
    "## Putting it all together"
   ]
  },
  {
   "cell_type": "markdown",
   "metadata": {},
   "source": [
    "After creating, filling, convolving and various other manipulations what does our final spectrum look like?"
   ]
  },
  {
   "cell_type": "code",
   "execution_count": 30,
   "metadata": {
    "collapsed": false
   },
   "outputs": [
    {
     "name": "stdout",
     "output_type": "stream",
     "text": [
      "[[  3.64731482e-02   0.00000000e+00   2.16508992e-02 ...,   0.00000000e+00\n",
      "    4.39118636e-02   0.00000000e+00]\n",
      " [  4.10470774e-02   0.00000000e+00   1.18137897e-02 ...,   0.00000000e+00\n",
      "    2.87037461e-02   0.00000000e+00]\n",
      " [  3.73512294e-02   0.00000000e+00   4.30269964e-03 ...,   0.00000000e+00\n",
      "    1.49831936e-02   0.00000000e+00]\n",
      " [  2.71448641e-02   0.00000000e+00   1.04541699e-03 ...,   0.00000000e+00\n",
      "    5.57432596e-03   0.00000000e+00]\n",
      " [  1.49846196e-02   4.79056623e-05   6.49955040e-05 ...,   0.00000000e+00\n",
      "    1.51585600e-03   0.00000000e+00]\n",
      " [  5.91818599e-03   7.10655537e-04   0.00000000e+00 ...,   0.00000000e+00\n",
      "    2.55939336e-04   0.00000000e+00]]\n"
     ]
    }
   ],
   "source": [
    "print smeared_spectrum._data"
   ]
  },
  {
   "cell_type": "code",
   "execution_count": 32,
   "metadata": {
    "collapsed": false
   },
   "outputs": [
    {
     "data": {
      "text/plain": [
       "<matplotlib.figure.Figure at 0x7f8c08958bd0>"
      ]
     },
     "execution_count": 32,
     "metadata": {},
     "output_type": "execute_result"
    }
   ],
   "source": [
    "plot.plot_projection(smeared_spectrum, \"energy_mc\", fig_num=5)"
   ]
  },
  {
   "cell_type": "code",
   "execution_count": null,
   "metadata": {
    "collapsed": true
   },
   "outputs": [],
   "source": []
  }
 ],
 "metadata": {
  "kernelspec": {
   "display_name": "Python 2",
   "language": "python",
   "name": "python2"
  },
  "language_info": {
   "codemirror_mode": {
    "name": "ipython",
    "version": 2
   },
   "file_extension": ".py",
   "mimetype": "text/x-python",
   "name": "python",
   "nbconvert_exporter": "python",
   "pygments_lexer": "ipython2",
   "version": "2.7.6"
  }
 },
 "nbformat": 4,
 "nbformat_minor": 0
}
